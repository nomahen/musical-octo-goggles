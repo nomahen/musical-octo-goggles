{
 "cells": [
  {
   "cell_type": "code",
   "execution_count": 1,
   "metadata": {},
   "outputs": [
    {
     "name": "stderr",
     "output_type": "stream",
     "text": [
      "/home/brett/.local/lib/python2.7/site-packages/matplotlib/__init__.py:913: UserWarning: axes.color_cycle is deprecated and replaced with axes.prop_cycle; please use the latter.\n",
      "  warnings.warn(self.msg_depr % (key, alt_key))\n"
     ]
    }
   ],
   "source": [
    "import numpy as np \n",
    "import matplotlib.pyplot as plt\n",
    "import matplotlib as mpl\n",
    "import rebound\n",
    "#import CreateMovie as movie\n",
    "from matplotlib.patches import Circle\n",
    "import matplotlib.lines as mlines\n",
    "from matplotlib.ticker import FormatStrFormatter\n",
    "from scipy.interpolate import interp1d\n",
    "from RV_stab import *\n",
    "import scipy.optimize as op\n",
    "import emcee\n",
    "import corner\n",
    "\n",
    "%matplotlib inline\n",
    "plt.rcParams['legend.frameon'] = True\n",
    "plt.rcParams['legend.fontsize'] = 18\n",
    "plt.rcParams['legend.borderpad'] = 0.5\n",
    "plt.rcParams['legend.labelspacing'] = 0.1\n",
    "plt.rcParams['legend.handletextpad'] = 0.1\n",
    "plt.rcParams['font.family'] = 'stixgeneral'\n",
    "plt.rcParams['font.size'] = 18\n",
    "mpl.rcParams['legend.numpoints'] = 1\n",
    "plt.rc('lines', linewidth=1.0)\n",
    "colors = ['4D4D4D','5DA5DA', 'FAA43A', '60BD68', 'F17CB0','B2912F','B276B2','DECF3F','F15854']\n",
    "                                #  (blue)\n",
    "                                # (orange)\n",
    "                                # (green)\n",
    "                                # (pink)\n",
    "                                #  (brown)\n",
    "                                # (purple)\n",
    "                                #  (yellow)\n",
    "                                # (red)\n",
    "                                # ']\n",
    "mpl.rcParams['axes.color_cycle'] = colors\n",
    "\n",
    "\n",
    "\n"
   ]
  },
  {
   "cell_type": "code",
   "execution_count": 2,
   "metadata": {},
   "outputs": [
    {
     "data": {
      "image/png": "[encoded data removed]",
      "text/plain": [
       "<matplotlib.figure.Figure at 0x7ffb696d0c50>"
      ]
     },
     "metadata": {},
     "output_type": "display_data"
    }
   ],
   "source": [
    "HD1502 = RVSystem(mstar = 1.61)\n",
    "epoch = 2454399.8398\n",
    "\n",
    "HD1502.clear_planets()\n",
    "HD1502.RV_data = ['HD1502_KECK11.vels','HD1502_KECK.vels','HD1502_HJS11.vels','HD1502_HET11.vels','HD1502_APF.vels']\n",
    "#HD1502.path_to_data = \"/home/brett/musical-octo-goggles/\"\n",
    "\n",
    "def opt_offsets(offsets):\n",
    "    HD1502.offsets = offsets\n",
    "    return -HD1502.log_like(epoch=epoch)\n",
    "\n",
    "# t_0 = time.time()\n",
    "# guess = [24.93338,2.03738,16.41142,-10.98964,38.91007]\n",
    "# result = op.minimize(opt_offsets,guess)\n",
    "# HD1502.offsets = result.x\n",
    "# print \"That took  %.3f seconds\" %(time.time()-t_0)\n",
    "\n",
    "# offsets = np.loadtxt('offsets_better')\n",
    "offsets = [27.9308,3.1068,19.8646,-7.2437,43.2642]\n",
    "HD1502.offsets = offsets\n",
    "HD1502.sort_data()\n",
    "# HD1502.offsets = [2.928989e+01,5.087396e+00,2.174066e+01,-3.288000e+00,3.957321e+01]\n",
    "#HD1502.path_to_data = \"/home/brett/musical-octo-goggles/\"\n",
    "\n",
    "HD1502.plot_RV(epoch=epoch,pnts_per_period=1000)"
   ]
  },
  {
   "cell_type": "code",
   "execution_count": 3,
   "metadata": {
    "collapsed": true
   },
   "outputs": [],
   "source": [
    "def three_1502(chromosome):\n",
    "    per0,per1,per2,mass0,mass1,mass2,M0,M1,M2,e0,e1,e2,pom0,pom1,pom2,i0,i1,i2=chromosome\n",
    "    HD1502.clear_planets()\n",
    "    HD1502.add_planet(per = per0, mass = mass0 , M = M0, e=np.exp(e0), pomega = pom0,i=i0)\n",
    "    HD1502.add_planet(per = per1, mass = mass1, M = M1, e=np.exp(e1), pomega = pom1,i=i1)\n",
    "    HD1502.add_planet(per = per2, mass = mass2, M = M2, e=np.exp(e2), pomega = pom2,i=i2)\n",
    "    x=-HD1502.stab_logprob(epoch=epoch,pnts_per_period=80,time=1e6)\n",
    "    return x"
   ]
  },
  {
   "cell_type": "code",
   "execution_count": null,
   "metadata": {},
   "outputs": [
    {
     "name": "stdout",
     "output_type": "stream",
     "text": [
      "Gen. 0 (0.00%): Max/Min/Avg Fitness(Raw) [inf(inf)/inf(inf)/inf(inf)]\n",
      "Gen. 2 (0.80%): Max/Min/Avg Fitness(Raw) [inf(inf)/inf(inf)/inf(inf)]\n",
      "Gen. 4 (1.60%): Max/Min/Avg Fitness(Raw) [inf(inf)/inf(inf)/inf(inf)]\n",
      "Gen. 6 (2.40%): Max/Min/Avg Fitness(Raw) [inf(inf)/inf(inf)/inf(inf)]\n",
      "Gen. 8 (3.20%): Max/Min/Avg Fitness(Raw) [inf(inf)/inf(inf)/inf(inf)]\n",
      "Gen. 10 (4.00%): Max/Min/Avg Fitness(Raw) [inf(inf)/inf(inf)/inf(inf)]\n",
      "Gen. 12 (4.80%): Max/Min/Avg Fitness(Raw) [inf(inf)/inf(inf)/inf(inf)]\n",
      "Gen. 14 (5.60%): Max/Min/Avg Fitness(Raw) [inf(inf)/inf(inf)/inf(inf)]\n",
      "Gen. 16 (6.40%): Max/Min/Avg Fitness(Raw) [inf(inf)/inf(inf)/inf(inf)]\n",
      "Gen. 18 (7.20%): Max/Min/Avg Fitness(Raw) [inf(inf)/inf(inf)/inf(inf)]\n",
      "Gen. 20 (8.00%): Max/Min/Avg Fitness(Raw) [inf(inf)/inf(inf)/inf(inf)]\n",
      "Gen. 22 (8.80%): Max/Min/Avg Fitness(Raw) [inf(inf)/inf(inf)/inf(inf)]\n",
      "Gen. 24 (9.60%): Max/Min/Avg Fitness(Raw) [inf(inf)/inf(inf)/inf(inf)]\n",
      "Gen. 26 (10.40%): Max/Min/Avg Fitness(Raw) [inf(inf)/inf(inf)/inf(inf)]\n",
      "Gen. 28 (11.20%): Max/Min/Avg Fitness(Raw) [inf(inf)/inf(inf)/inf(inf)]\n"
     ]
    }
   ],
   "source": [
    "length=18\n",
    "bounds=[[415,450],[260,300],[760,800],[2.8,3.05],[0.4,0.6],[0.4,0.62],[45,75],[205,236],[107,138],[np.log(0.05),np.log(0.25)],[np.log(0.05),np.log(0.25)],[np.log(0.05),np.log(0.25)],[125,155],[305,335],[60,90],[85,95],[85,95],[85,95]]\n",
    "result=HD1502.genetic_search(bounds,length,three_1502,num_gen=250,crossover=1,mutation=0.15,pop_size=75,freq_stat=2,cores=1,database=1,file_name='1502.2',elitism=1)\n"
   ]
  },
  {
   "cell_type": "code",
   "execution_count": null,
   "metadata": {
    "collapsed": true
   },
   "outputs": [],
   "source": [
    "result"
   ]
  },
  {
   "cell_type": "code",
   "execution_count": null,
   "metadata": {
    "collapsed": true
   },
   "outputs": [],
   "source": []
  }
 ],
 "metadata": {
  "kernelspec": {
   "display_name": "Python 2",
   "language": "python",
   "name": "python2"
  },
  "language_info": {
   "codemirror_mode": {
    "name": "ipython",
    "version": 2
   },
   "file_extension": ".py",
   "mimetype": "text/x-python",
   "name": "python",
   "nbconvert_exporter": "python",
   "pygments_lexer": "ipython2",
   "version": "2.7.12"
  }
 },
 "nbformat": 4,
 "nbformat_minor": 2
}
