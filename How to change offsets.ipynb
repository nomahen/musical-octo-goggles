{
 "cells": [
  {
   "cell_type": "code",
   "execution_count": null,
   "metadata": {
    "collapsed": true
   },
   "outputs": [],
   "source": [
    "#initialize a system with given offsets then sort the data\n",
    "HD1502 = RVSystem(mstar = 1.61)\n",
    "HD1502.add_planet(per = 432.81, mass = 2.91, M = M_0, e=10**(-1.26), pomega = pomega_0+j*0.01*pomega_0)\n",
    "HD1502.add_planet(per = 280.51, mass = 0.47, M = M_1, e=10**(-1.09), pomega = pomega_1)\n",
    "HD1502.add_planet(per = 780.01, mass = 0.49, M = M_2, e=10**(-1.46), pomega = pomega_2)\n",
    "\n",
    "HD1502.RV_files = ['HD1502_KECK11.vels','HD1502_KECK.vels','HD1502_HJS11.vels','HD1502_HET11.vels','HD1502_APF.vels']\n",
    "HD1502.path_to_data = \"\"\n",
    "HD1502.offsets=[27.82836931 ,  3.69178823 , 18.75246897 , -7.24464166 , 40.87741193]\n",
    "HD1502.sort_data()\n",
    "\n",
    "prev_offsets=HD1502.offsets #create new variable to hold previous offsets\n",
    "HD1502.offsets = new_offsets #change offset variable\n",
    "offset_dif=prev_offsets-HD1502.offsets #calculate difference between old and new offsets\n",
    "for i in range(len(HD1502.RV_files)):#change the velocity for the data associated with each file\n",
    "    HD1502.RV_data[np.where(HD1502.RV_data[:,3]==i),1]-offset_dif[i] "
   ]
  }
 ],
 "metadata": {
  "kernelspec": {
   "display_name": "Python 3",
   "language": "python",
   "name": "python3"
  },
  "language_info": {
   "codemirror_mode": {
    "name": "ipython",
    "version": 3
   },
   "file_extension": ".py",
   "mimetype": "text/x-python",
   "name": "python",
   "nbconvert_exporter": "python",
   "pygments_lexer": "ipython3",
   "version": "3.6.0"
  }
 },
 "nbformat": 4,
 "nbformat_minor": 2
}
