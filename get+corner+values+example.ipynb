{
 "cells": [
  {
   "cell_type": "markdown",
   "metadata": {},
   "source": [
    "# How to have more than 2 decimals displayed"
   ]
  },
  {
   "cell_type": "code",
   "execution_count": null,
   "metadata": {
    "collapsed": true
   },
   "outputs": [],
   "source": [
    "# post-MCMC situation\n",
    "\n",
    "samples = sampler.chain[:, nsteps-500:, :].reshape((-1, ndim))\n",
    "fig = corner.corner(samples, labels=[\"$P_0$\", \"$P_1$\", \"$P_2$\",\"$P_3$\",\n",
    "                                    \"$\\mu_0$\", \"$\\mu_1$\", \"$\\mu_2$\",\"$\\mu_3$\",\n",
    "                                    \"$M_0$\", \"$M_1$\", \"$M_2$\",\"$M_3$\",\n",
    "                                    \"$e_0$\", \"$e_1$\", \"$e_2$\",\"$e_3$\",\n",
    "                                    \"$\\omega_0$\", \"$\\omega_1$\", \"$\\omega_2$\",\"$\\omega_3$\"\n",
    "                                    ,\"$v_err$\"],\n",
    "                    \n",
    "                    # This line gives 5 decimals as in a string format \"%.5f\" %3.14159265 == \"3.14159\"                  \n",
    "                    title_fmt = '.5f',\n",
    "                    \n",
    "                    show_titles=True\n",
    "                   )"
   ]
  },
  {
   "cell_type": "markdown",
   "metadata": {},
   "source": [
    "# How to get exact values from corner.py"
   ]
  },
  {
   "cell_type": "code",
   "execution_count": null,
   "metadata": {
    "collapsed": true
   },
   "outputs": [],
   "source": [
    "# This gives the exact 16%, 50%, 84% quantile values; q_50 is what we need\n",
    "\n",
    "q_16, q_50, q_84 = np.zeros(ndim),np.zeros(ndim),np.zeros(ndim)\n",
    "q_m,q_p = np.zeros(ndim),np.zeros(ndim)\n",
    "\n",
    "for i in range(ndim):\n",
    "    q_16[i] = corner.quantile(samples[:,i], .16, weights=None)\n",
    "    q_50[i] = corner.quantile(samples[:,i], .50, weights=None)\n",
    "    q_84[i] = corner.quantile(samples[:,i], .84, weights=None)\n",
    "\n",
    "# minus and plus values displayed on the right       \n",
    "q_m = q_16 - q_50\n",
    "q_p = q_50 - q_84\n",
    "\n",
    "#print(q_m, pars, q_p)"
   ]
  }
 ],
 "metadata": {
  "kernelspec": {
   "display_name": "Python 3",
   "language": "python",
   "name": "python3"
  },
  "language_info": {
   "codemirror_mode": {
    "name": "ipython",
    "version": 3
   },
   "file_extension": ".py",
   "mimetype": "text/x-python",
   "name": "python",
   "nbconvert_exporter": "python",
   "pygments_lexer": "ipython3",
   "version": "3.6.0"
  }
 },
 "nbformat": 4,
 "nbformat_minor": 2
}
