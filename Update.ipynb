{
 "cells": [
  {
   "cell_type": "markdown",
   "metadata": {},
   "source": [
    "## p-test and the chi statistic ##\n",
    "#### using the function chi2_prob, you can obtain a statistical probability value from the test statistic we are using. The function accepts the statistic and also accepts the degrees of freedom we have (the thing we have been dividing by this entire time)."
   ]
  },
  {
   "cell_type": "code",
   "execution_count": 1,
   "metadata": {},
   "outputs": [
    {
     "name": "stderr",
     "output_type": "stream",
     "text": [
      "/home/brett/.local/lib/python2.7/site-packages/matplotlib/__init__.py:913: UserWarning: axes.color_cycle is deprecated and replaced with axes.prop_cycle; please use the latter.\n",
      "  warnings.warn(self.msg_depr % (key, alt_key))\n"
     ]
    },
    {
     "data": {
      "text/plain": [
       "36.164582167244724"
      ]
     },
     "execution_count": 1,
     "metadata": {},
     "output_type": "execute_result"
    }
   ],
   "source": [
    "from RV_stab import *\n",
    "HD200964 = RVSystem(mstar=1.44)\n",
    "epoch=2454399.2\n",
    "HD200964.RV_data = ['HD200964_KECK.vels','HD200964_APF.vels']\n",
    "offsets = [-7.35067906,33.92612753]\n",
    "\n",
    "HD200964.offsets=offsets\n",
    "\n",
    "HD200964.clear_planets()\n",
    "HD200964.add_planet(per=601.3,mass=1.65,M=93.9,e=np.exp(-2.36329),pomega=201.5)\n",
    "HD200964.add_planet(per=811.8,mass=0.96,M=51.95,e=np.exp(-2.8544639),pomega=293.06)\n",
    "\n",
    "HD200964.calc_chi2(epoch=epoch)/(86-12)"
   ]
  },
  {
   "cell_type": "code",
   "execution_count": 2,
   "metadata": {},
   "outputs": [
    {
     "data": {
      "text/plain": [
       "6.2954794085221997e-05"
      ]
     },
     "execution_count": 2,
     "metadata": {},
     "output_type": "execute_result"
    }
   ],
   "source": [
    "HD200964.chi2_prob(HD200964.calc_chi2(epoch=epoch)/(86-12),(86-12))"
   ]
  },
  {
   "cell_type": "markdown",
   "metadata": {},
   "source": [
    "### the value above is the probability that our model is 'correct' and not just a statistical abberation (feel free to check more into hypothesis testing to get the full story). For our purposes, we should probably have it somewhere around 5-sigma probability range (~1e-7). This means we have confidence in our answer in the range of 5-sigma. We can choose different values to shoot for as well. This allows us to get a glimpse into what the chi statistic is actually telling us."
   ]
  },
  {
   "cell_type": "code",
   "execution_count": 4,
   "metadata": {},
   "outputs": [
    {
     "data": {
      "text/plain": [
       "34.871576015854274"
      ]
     },
     "execution_count": 4,
     "metadata": {},
     "output_type": "execute_result"
    }
   ],
   "source": [
    "HD200964.calc_chi2(epoch=epoch,star='A type')/(86-12)"
   ]
  },
  {
   "cell_type": "markdown",
   "metadata": {},
   "source": [
    "### now we can calculate a chi statistic with the error from the stellar jitter included. The error values are from this paper http://iopscience.iop.org/article/10.1086/430369/pdf. There is a table at the end which tabulates mean error due to stellar jitter in RV signal readings. So far, there is error for A type and G dwarf stars (HD200964 and HD1502 respectively. Feel free to add new values for different types of stars (the code is set up to make adding them easy!). "
   ]
  },
  {
   "cell_type": "code",
   "execution_count": null,
   "metadata": {
    "collapsed": true
   },
   "outputs": [],
   "source": [
    "result=HD200964.genetic_search(bounds,length,long_planet_eval,func2=eval_1,num_gen=2000,pop_size=300,freq_stat=10,cores=0,scaling='Power')"
   ]
  },
  {
   "cell_type": "markdown",
   "metadata": {},
   "source": [
    "### New feature! Multiple evaluation functions can be very useful when analyzing multiple analysis points in a system. Pair them with the weighting scale to maximize effectiveness. Form multiple evaluation functions, call them with the genetic engine, and weight them using both the built in weight function (Scaling='Linear' is the default weighting given to multiple evaluation functions in pyevolve). This makes GA a useful tool for using MEGNO and stability with various weightings. Please note that you have to tune your evaluation function before starting the engine. This means math (ugh, yes I know). Make sure that everything is scaled properly, that the correct min/max feature is enabled, and that your fitness score is a well-rounded example of the total population fitness. This can take quite a bit of thought as well as creativity."
   ]
  },
  {
   "cell_type": "code",
   "execution_count": null,
   "metadata": {
    "collapsed": true
   },
   "outputs": [],
   "source": []
  }
 ],
 "metadata": {
  "kernelspec": {
   "display_name": "Python 2",
   "language": "python",
   "name": "python2"
  },
  "language_info": {
   "codemirror_mode": {
    "name": "ipython",
    "version": 2
   },
   "file_extension": ".py",
   "mimetype": "text/x-python",
   "name": "python",
   "nbconvert_exporter": "python",
   "pygments_lexer": "ipython2",
   "version": "2.7.12"
  }
 },
 "nbformat": 4,
 "nbformat_minor": 2
}
