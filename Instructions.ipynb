{
 "cells": [
  {
   "cell_type": "markdown",
   "metadata": {
    "collapsed": true
   },
   "source": [
    "## Genetic Algorithms and Optimization\n",
    "### Genetic Algorithms are useful for problems where there is very little known about the error function present, and also for non-linear problems that involve multiple types of parameters. These algorithms use basic 'survival of the fittest' evolution in order to find a global minimum or maximum. The algorithm that is used is Pyevolve, a basic GA engine that is very simple to understand.\n",
    "\n",
    "## Basics\n",
    "### There are two main conditions that we must satisfy in order to use GA. They are both very similar to what we are used to using in both MCMC and basic optimization. First, an evaluation function (or maximization/minimization function for optimization). This must incorporate the parameters and return a fitness benchmark that is used to determine reproduction of the specific population. It can look something like this.."
   ]
  },
  {
   "cell_type": "code",
   "execution_count": 1,
   "metadata": {
    "collapsed": true
   },
   "outputs": [],
   "source": [
    "def two_planet_eval(chromosome):\n",
    "    per0,per1,mass0,mass1,e0,e1= chromosome\n",
    "    HD200964.clear_planets()\n",
    "    HD200964.add_planet(per=per0,mass=mass0,M=211.31,e=np.exp(e0),pomega=221.77)\n",
    "    HD200964.add_planet(per=per1,mass=mass1,M=307.343,e=np.exp(e1),pomega=296.264)\n",
    "\n",
    "    \n",
    "    x=-HD200964.stab_logprob(epoch=epoch,pnts_per_period=15)\n",
    "    return x"
   ]
  },
  {
   "cell_type": "markdown",
   "metadata": {},
   "source": [
    "### As seen above, the evaluation function takes in a chromosome, which is made up of all the genes for the individual in the population. In other words, we take the parameters and determine fitness. Fitness is based on the score returned in the function. I chose the stab_logprob, but feel free to design your own fitness metric. Fitness should be measured by both stability and goodness of fit, to ensure a viable population over time. "
   ]
  },
  {
   "cell_type": "code",
   "execution_count": 4,
   "metadata": {},
   "outputs": [
    {
     "name": "stderr",
     "output_type": "stream",
     "text": [
      "/home/brett/.local/lib/python2.7/site-packages/matplotlib/__init__.py:913: UserWarning: axes.color_cycle is deprecated and replaced with axes.prop_cycle; please use the latter.\n",
      "  warnings.warn(self.msg_depr % (key, alt_key))\n"
     ]
    }
   ],
   "source": [
    "import numpy as np\n",
    "import RV_stab\n",
    "bounds=[[860,940],[540,620],[0.9,1.5],[0.8,1.5],[np.log(0.05),np.log(0.3)],[np.log(0.05),np.log(0.3)]]\n",
    "length=6\n",
    "#result=HD200964.genetic_search(bounds,length,two_planet_eval,num_gen=600,pop_size=80,freq_stat=10,cores=0)"
   ]
  },
  {
   "cell_type": "markdown",
   "metadata": {},
   "source": [
    "## Bounds, free parameters, and the optimization engine\n",
    "### Declaring your bounds is the same as with the basic optimization engine. These bounds set the parameters for the alleles, or the base of the entire populations genetics. A length parameter must also be set, describing the number of parameters, or the length of the genetic sequence. Finally, calling the object genetic_search will allow you to run a genetic program using the Ga engine of pyevolve. num_gen controls the number of generations you want the program to evolve over. This parameter is not too important, as you can interrupt the kernel and still obtain the best individual from the population at that particular generation (unlike scipy.optimize functions, which require the kernel to run to completion. pop_size controls the number of individuals you want to make up your population. Finally, freq_stat controls how often you want GA to report the min/max/population fitness score back to you. This is useful for observing how well the population is converging or diverging. For multi-processing, set cores=0. For single-processor use, set cores=1 (wierd I know!)."
   ]
  },
  {
   "cell_type": "code",
   "execution_count": null,
   "metadata": {
    "collapsed": true
   },
   "outputs": [],
   "source": []
  }
 ],
 "metadata": {
  "kernelspec": {
   "display_name": "Python 2",
   "language": "python",
   "name": "python2"
  },
  "language_info": {
   "codemirror_mode": {
    "name": "ipython",
    "version": 2
   },
   "file_extension": ".py",
   "mimetype": "text/x-python",
   "name": "python",
   "nbconvert_exporter": "python",
   "pygments_lexer": "ipython2",
   "version": "2.7.12"
  }
 },
 "nbformat": 4,
 "nbformat_minor": 2
}
